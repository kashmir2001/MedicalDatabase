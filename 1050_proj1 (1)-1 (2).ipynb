{
 "cells": [
  {
   "cell_type": "code",
   "execution_count": 5,
   "id": "ce919429",
   "metadata": {},
   "outputs": [
    {
     "name": "stdout",
     "output_type": "stream",
     "text": [
      "<mysql.connector.connection_cext.CMySQLConnection object at 0x105932110>\n",
      "CONNECTION SUCCESSFUL\n"
     ]
    }
   ],
   "source": [
    "import mysql.connector\n",
    " \n",
    "mydb = mysql.connector.connect(\n",
    "  host=\"localhost\",\n",
    "  user=\"root\",\n",
    "  password=\"Cruchu19\"   \n",
    ")\n",
    " \n",
    "print(mydb)\n",
    " \n",
    "if mydb.is_connected():\n",
    "    print(\"CONNECTION SUCCESSFUL\")\n",
    "\n",
    "# mycursor = mydb.cursor()\n",
    "# query = ('DROP DATABASE medpractice')\n",
    "# mycursor.execute(query)\n"
   ]
  },
  {
   "cell_type": "code",
   "execution_count": 6,
   "id": "c0aaf6b5",
   "metadata": {},
   "outputs": [],
   "source": [
    "#create a database\n",
    "mycursor = mydb.cursor()\n",
    "\n",
    "mycursor.execute(\"CREATE DATABASE medpractice\")"
   ]
  },
  {
   "cell_type": "code",
   "execution_count": 7,
   "id": "33380c92",
   "metadata": {},
   "outputs": [],
   "source": [
    "#create tables\n",
    "\n",
    "#patients\n",
    "mycursor = mydb.cursor()\n",
    "mycursor.execute(\"CREATE TABLE medpractice.patients (SSN VARCHAR(11) PRIMARY KEY, \\\n",
    "                  name VARCHAR(255) NOT NULL, address VARCHAR(255) NOT NULL, birth_date DATETIME NOT NULL, \\\n",
    "                  physician_id VARCHAR(11) NOT NULL)\")\n",
    "\n",
    "#physicians\n",
    "mycursor = mydb.cursor()\n",
    "mycursor.execute(\"CREATE TABLE medpractice.physicians (SSN VARCHAR(11) PRIMARY KEY, \\\n",
    "                  name VARCHAR(255) NOT NULL, primary_specialty VARCHAR(255) NOT NULL, experience_years TINYINT NOT NULL, \\\n",
    "                  CHECK (experience_years >= 0))\")\n",
    "\n",
    "#pharmacies\n",
    "mycursor = mydb.cursor()\n",
    "mycursor.execute(\"CREATE TABLE medpractice.pharmacies (id VARCHAR(255) PRIMARY KEY, \\\n",
    "                  name VARCHAR(255) NOT NULL, address VARCHAR(255) NOT NULL, phone VARCHAR(50) NOT NULL)\")\n",
    "\n",
    "#drugs\n",
    "mycursor = mydb.cursor()\n",
    "mycursor.execute(\"CREATE TABLE medpractice.drugs (id VARCHAR(255) NOT NULL UNIQUE, \\\n",
    "                  name VARCHAR(255) PRIMARY KEY)\")\n",
    "#prescriptions\n",
    "mycursor = mydb.cursor()\n",
    "mycursor.execute(\"CREATE TABLE medpractice.prescriptions (id VARCHAR(255) PRIMARY KEY, \\\n",
    "                  patient_id VARCHAR(11) NOT NULL, physician_id VARCHAR(11) NOT NULL, drug_name VARCHAR(255) NOT NULL, \\\n",
    "                  date DATE NOT NULL, quantity SMALLINT NOT NULL, CHECK (quantity > 0))\")\n",
    "\n",
    "#adverse_interactions\n",
    "mycursor = mydb.cursor()\n",
    "mycursor.execute(\"CREATE TABLE medpractice.adverse_interactions (drug_name1 VARCHAR(255), \\\n",
    "                  drug_name2 VARCHAR(255), PRIMARY KEY(drug_name1,drug_name2))\")\n",
    "\n",
    "#alerts \n",
    "mycursor = mydb.cursor()\n",
    "mycursor.execute(\"CREATE TABLE medpractice.alerts (patient_id VARCHAR(11) NOT NULL, \\\n",
    "                  physician_id VARCHAR(11) NOT NULL, alert_date DATE NOT NULL, drug1 VARCHAR(255) NOT NULL, drug2 VARCHAR(255) NOT NULL)\")\n",
    "\n",
    "#pharmacy_fills\n",
    "mycursor = mydb.cursor()\n",
    "mycursor.execute(\"CREATE TABLE medpractice.pharmacy_fills (pharmacy_id VARCHAR(255),prescription_id VARCHAR(255), \\\n",
    "                   date DATE NOT NULL, cost DECIMAL(6,2) NOT NULL, \\\n",
    "                  CHECK (cost >= 0), PRIMARY KEY(prescription_id,pharmacy_id))\")\n",
    "\n",
    "#companies \n",
    "mycursor = mydb.cursor()\n",
    "mycursor.execute(\"CREATE TABLE medpractice.companies (id VARCHAR(255) PRIMARY KEY, \\\n",
    "                  name VARCHAR(255) NOT NULL, address VARCHAR(255) NOT NULL, contact_phone VARCHAR(50) NOT NULL, \\\n",
    "                  contact_name VARCHAR(255) NOT NULL)\")\n",
    "\n",
    "#contracts\n",
    "mycursor = mydb.cursor()\n",
    "mycursor.execute(\"CREATE TABLE medpractice.contracts (id VARCHAR(255) PRIMARY KEY, \\\n",
    "                  drug_name VARCHAR(255) NOT NULL, dosage SMALLINT NOT NULL,pharmacy_id VARCHAR(255) NOT NULL,company_id VARCHAR(255) NOT NULL,   \\\n",
    "                  CHECK (dosage > 0),quantity INT NOT NULL, CHECK (quantity > 0),date DATE NOT NULL, price DECIMAL(6,2) NOT NULL, CHECK (price >= 0))\")"
   ]
  },
  {
   "cell_type": "code",
   "execution_count": 8,
   "id": "f8f57b93",
   "metadata": {},
   "outputs": [],
   "source": [
    "#create foreign keys\n",
    "\n",
    "#patients\n",
    "query = ('ALTER TABLE medpractice.patients ADD foreign key(physician_id) \\\n",
    "          references medpractice.physicians(ssn)')\n",
    "mycursor.execute(query)\n",
    "\n",
    "#prescriptions\n",
    "query = ('ALTER TABLE medpractice.prescriptions ADD foreign key(patient_id) \\\n",
    "          references medpractice.patients(ssn)')\n",
    "mycursor.execute(query)\n",
    "query = ('ALTER TABLE medpractice.prescriptions ADD foreign key(physician_id) \\\n",
    "          references medpractice.physicians(ssn)')\n",
    "mycursor.execute(query)\n",
    "query = ('ALTER TABLE medpractice.prescriptions ADD foreign key(drug_name) \\\n",
    "          references medpractice.drugs(name)')\n",
    "mycursor.execute(query)\n",
    "\n",
    "#adverse_interactions\n",
    "query = ('ALTER TABLE medpractice.adverse_interactions ADD foreign key(drug_name1) \\\n",
    "          references medpractice.drugs(name)')\n",
    "mycursor.execute(query)\n",
    "query = ('ALTER TABLE medpractice.adverse_interactions ADD foreign key(drug_name2) \\\n",
    "          references medpractice.drugs(name)')\n",
    "mycursor.execute(query)\n",
    "\n",
    "#alerts\n",
    "query = ('ALTER TABLE medpractice.alerts ADD foreign key(patient_id) \\\n",
    "          references medpractice.patients(ssn)')\n",
    "mycursor.execute(query)\n",
    "query = ('ALTER TABLE medpractice.alerts ADD foreign key(physician_id) \\\n",
    "          references medpractice.physicians(ssn)')\n",
    "mycursor.execute(query)\n",
    "query = ('USE medpractice')\n",
    "mycursor.execute(query)\n",
    "query = ('CREATE INDEX idx_prescriptions_patient_drug ON prescriptions (patient_id, drug_name)')\n",
    "mycursor.execute(query)\n",
    "query = ('ALTER TABLE medpractice.alerts ADD foreign key(patient_id,drug1) \\\n",
    "          references medpractice.prescriptions(patient_id,drug_name)')\n",
    "mycursor.execute(query)\n",
    "query = ('ALTER TABLE medpractice.alerts ADD foreign key(patient_id,drug2) \\\n",
    "          references medpractice.prescriptions(patient_id,drug_name)')\n",
    "mycursor.execute(query)\n",
    "\n",
    "#pharmacy_fills\n",
    "query = ('ALTER TABLE medpractice.pharmacy_fills ADD foreign key(prescription_id) \\\n",
    "          references medpractice.prescriptions(id)')\n",
    "mycursor.execute(query)\n",
    "query = ('ALTER TABLE medpractice.pharmacy_fills ADD foreign key(pharmacy_id) \\\n",
    "          references medpractice.pharmacies(id)')\n",
    "mycursor.execute(query)\n",
    "\n",
    "#contracts\n",
    "query = ('ALTER TABLE medpractice.contracts ADD foreign key(company_id) \\\n",
    "          references medpractice.companies(id)')\n",
    "mycursor.execute(query)\n",
    "query = ('ALTER TABLE medpractice.contracts ADD foreign key(pharmacy_id) \\\n",
    "          references medpractice.pharmacies(id)')\n",
    "mycursor.execute(query)\n",
    "query = ('ALTER TABLE medpractice.contracts ADD foreign key(drug_name) \\\n",
    "          references medpractice.drugs(name)')\n",
    "mycursor.execute(query)"
   ]
  },
  {
   "cell_type": "code",
   "execution_count": 9,
   "id": "ff58e9af",
   "metadata": {},
   "outputs": [],
   "source": [
    "#connect to a specific database\n",
    "mydb = mysql.connector.connect(\n",
    "  host=\"localhost\",\n",
    "  user=\"root\",\n",
    "  password=\"Cruchu19\", \n",
    "  database = \"medpractice\" \n",
    ")\n",
    "mycursor = mydb.cursor()\n"
   ]
  },
  {
   "cell_type": "code",
   "execution_count": 10,
   "id": "d4d09fab",
   "metadata": {},
   "outputs": [],
   "source": [
    "import pandas as pd"
   ]
  },
  {
   "cell_type": "code",
   "execution_count": 11,
   "id": "d81cc3bc",
   "metadata": {
    "scrolled": true
   },
   "outputs": [
    {
     "name": "stdout",
     "output_type": "stream",
     "text": [
      "Record inserted\n",
      "Record inserted\n",
      "Record inserted\n",
      "Record inserted\n",
      "Record inserted\n",
      "Record inserted\n",
      "Record inserted\n",
      "Record inserted\n",
      "Record inserted\n",
      "Record inserted\n",
      "Record inserted\n",
      "Record inserted\n"
     ]
    }
   ],
   "source": [
    "data = pd.read_csv(\"/Users/hudasaeed/Downloads/physicians.csv\")\n",
    "for i,row in data.iterrows():\n",
    "            sql = \"INSERT INTO physicians VALUES (%s,%s,%s,%s)\"\n",
    "            mycursor.execute(sql, tuple(row))\n",
    "            print(\"Record inserted\")\n",
    "            # the connection is not autocommitted by default, so we \n",
    "            # must commit to save our changes\n",
    "            mydb.commit()"
   ]
  },
  {
   "cell_type": "code",
   "execution_count": 12,
   "id": "5bc2b1a7",
   "metadata": {},
   "outputs": [
    {
     "name": "stdout",
     "output_type": "stream",
     "text": [
      "Record inserted\n",
      "Record inserted\n",
      "Record inserted\n",
      "Record inserted\n",
      "Record inserted\n",
      "Record inserted\n",
      "Record inserted\n",
      "Record inserted\n",
      "Record inserted\n",
      "Record inserted\n",
      "Record inserted\n",
      "Record inserted\n"
     ]
    }
   ],
   "source": [
    "data = pd.read_csv(\"/Users/hudasaeed/Downloads/patients.csv\")\n",
    "data['birthdate'] = [s.replace('T', ' ').replace('Z', '') for s in data['birthdate']]\n",
    "\n",
    "for i,row in data.iterrows():\n",
    "            sql = \"INSERT INTO patients VALUES (%s,%s,%s,%s,%s)\"\n",
    "            mycursor.execute(sql, tuple(row))\n",
    "            print(\"Record inserted\")\n",
    "            # the connection is not autocommitted by default, so we \n",
    "            # must commit to save our changes\n",
    "            mydb.commit()"
   ]
  },
  {
   "cell_type": "code",
   "execution_count": 13,
   "id": "cb5e0bed",
   "metadata": {},
   "outputs": [
    {
     "name": "stdout",
     "output_type": "stream",
     "text": [
      "Record inserted\n",
      "Record inserted\n",
      "Record inserted\n",
      "Record inserted\n",
      "Record inserted\n",
      "Record inserted\n",
      "Record inserted\n",
      "Record inserted\n",
      "Record inserted\n",
      "Record inserted\n",
      "Record inserted\n",
      "Record inserted\n",
      "Record inserted\n",
      "Record inserted\n",
      "Record inserted\n"
     ]
    }
   ],
   "source": [
    "data = pd.read_csv(\"/Users/hudasaeed/Downloads/pharmacies.csv\")\n",
    "for i,row in data.iterrows():\n",
    "            sql = \"INSERT INTO pharmacies VALUES (%s,%s,%s,%s)\"\n",
    "            mycursor.execute(sql, tuple(row))\n",
    "            print(\"Record inserted\")\n",
    "            # the connection is not autocommitted by default, so we \n",
    "            # must commit to save our changes\n",
    "            mydb.commit()"
   ]
  },
  {
   "cell_type": "code",
   "execution_count": 14,
   "id": "ef2cd6da",
   "metadata": {},
   "outputs": [
    {
     "name": "stdout",
     "output_type": "stream",
     "text": [
      "Record inserted\n",
      "Record inserted\n",
      "Record inserted\n",
      "Record inserted\n",
      "Record inserted\n",
      "Record inserted\n",
      "Record inserted\n",
      "Record inserted\n",
      "Record inserted\n",
      "Record inserted\n"
     ]
    }
   ],
   "source": [
    "data = pd.read_csv(\"/Users/hudasaeed/Downloads/drugs.csv\")\n",
    "for i,row in data.iterrows():\n",
    "            sql = \"INSERT INTO drugs VALUES (%s,%s)\"\n",
    "            mycursor.execute(sql, tuple(row))\n",
    "            print(\"Record inserted\")\n",
    "            # the connection is not autocommitted by default, so we \n",
    "            # must commit to save our changes\n",
    "            mydb.commit()"
   ]
  },
  {
   "cell_type": "code",
   "execution_count": 16,
   "id": "a7e84dff",
   "metadata": {},
   "outputs": [
    {
     "name": "stdout",
     "output_type": "stream",
     "text": [
      "Record inserted\n",
      "Record inserted\n",
      "Record inserted\n",
      "Record inserted\n",
      "Record inserted\n",
      "Record inserted\n",
      "Record inserted\n",
      "Record inserted\n",
      "Record inserted\n",
      "Record inserted\n",
      "Record inserted\n",
      "Record inserted\n",
      "Record inserted\n",
      "Record inserted\n",
      "Record inserted\n",
      "Record inserted\n"
     ]
    }
   ],
   "source": [
    "import datetime\n",
    "\n",
    "data = pd.read_csv(\"/Users/hudasaeed/Downloads/prescriptions.csv\")\n",
    "data['date'] = pd.to_datetime(data['date'], format='%m/%d/%Y').dt.strftime('%Y-%m-%d')\n",
    "\n",
    "for i,row in data.iterrows():\n",
    "            sql = \"INSERT INTO prescriptions VALUES (%s,%s,%s,%s,%s,%s)\"\n",
    "            mycursor.execute(sql, tuple(row))\n",
    "            print(\"Record inserted\")\n",
    "            # the connection is not autocommitted by default, so we \n",
    "            # must commit to save our changes\n",
    "            mydb.commit()"
   ]
  },
  {
   "cell_type": "code",
   "execution_count": 17,
   "id": "df468ab6",
   "metadata": {},
   "outputs": [
    {
     "name": "stdout",
     "output_type": "stream",
     "text": [
      "Record inserted\n",
      "Record inserted\n",
      "Record inserted\n",
      "Record inserted\n",
      "Record inserted\n",
      "Record inserted\n",
      "Record inserted\n",
      "Record inserted\n",
      "Record inserted\n"
     ]
    }
   ],
   "source": [
    "data = pd.read_csv(\"/Users/hudasaeed/Downloads/adverse_reactions.csv\")\n",
    "for i,row in data.iterrows():\n",
    "            sql = \"INSERT INTO adverse_interactions VALUES (%s,%s)\"\n",
    "            mycursor.execute(sql, tuple(row))\n",
    "            print(\"Record inserted\")\n",
    "            # the connection is not autocommitted by default, so we \n",
    "            # must commit to save our changes\n",
    "            mydb.commit()"
   ]
  },
  {
   "cell_type": "code",
   "execution_count": 18,
   "id": "bd616ce5",
   "metadata": {},
   "outputs": [
    {
     "name": "stdout",
     "output_type": "stream",
     "text": [
      "Record inserted\n",
      "Record inserted\n",
      "Record inserted\n",
      "Record inserted\n",
      "Record inserted\n",
      "Record inserted\n",
      "Record inserted\n"
     ]
    }
   ],
   "source": [
    "data = pd.read_csv(\"/Users/hudasaeed/Downloads/alerts.csv\")\n",
    "data['alert_date'] = pd.to_datetime(data['alert_date'], format='%m/%d/%Y').dt.strftime('%Y-%m-%d')\n",
    "\n",
    "for i,row in data.iterrows():\n",
    "            sql = \"INSERT INTO alerts VALUES (%s,%s,%s,%s,%s)\"\n",
    "            mycursor.execute(sql, tuple(row))\n",
    "            print(\"Record inserted\")\n",
    "            # the connection is not autocommitted by default, so we \n",
    "            # must commit to save our changes\n",
    "            mydb.commit()"
   ]
  },
  {
   "cell_type": "code",
   "execution_count": 19,
   "id": "1701a5e4",
   "metadata": {},
   "outputs": [
    {
     "name": "stdout",
     "output_type": "stream",
     "text": [
      "Record inserted\n",
      "Record inserted\n",
      "Record inserted\n",
      "Record inserted\n",
      "Record inserted\n",
      "Record inserted\n",
      "Record inserted\n",
      "Record inserted\n",
      "Record inserted\n",
      "Record inserted\n",
      "Record inserted\n",
      "Record inserted\n",
      "Record inserted\n",
      "Record inserted\n",
      "Record inserted\n",
      "Record inserted\n"
     ]
    }
   ],
   "source": [
    "data = pd.read_csv(\"/Users/hudasaeed/Downloads/pharmacy_fills.csv\")\n",
    "data['date'] = pd.to_datetime(data['date'], format='%m/%d/%y').dt.strftime('%Y-%m-%d')\n",
    "\n",
    "for i,row in data.iterrows():\n",
    "            sql = \"INSERT INTO pharmacy_fills VALUES (%s,%s,%s,%s)\"\n",
    "            mycursor.execute(sql, tuple(row))\n",
    "            print(\"Record inserted\")\n",
    "            # the connection is not autocommitted by default, so we \n",
    "            # must commit to save our changes\n",
    "            mydb.commit()"
   ]
  },
  {
   "cell_type": "code",
   "execution_count": 20,
   "id": "62922214",
   "metadata": {},
   "outputs": [
    {
     "name": "stdout",
     "output_type": "stream",
     "text": [
      "Record inserted\n",
      "Record inserted\n",
      "Record inserted\n",
      "Record inserted\n",
      "Record inserted\n",
      "Record inserted\n",
      "Record inserted\n",
      "Record inserted\n",
      "Record inserted\n",
      "Record inserted\n"
     ]
    }
   ],
   "source": [
    "data = pd.read_csv(\"/Users/hudasaeed/Downloads/companies.csv\")\n",
    "\n",
    "for i,row in data.iterrows():\n",
    "            sql = \"INSERT INTO companies VALUES (%s,%s,%s,%s,%s)\"\n",
    "            mycursor.execute(sql, tuple(row))\n",
    "            print(\"Record inserted\")\n",
    "            # the connection is not autocommitted by default, so we \n",
    "            # must commit to save our changes\n",
    "            mydb.commit()"
   ]
  },
  {
   "cell_type": "code",
   "execution_count": 21,
   "id": "c4163296",
   "metadata": {},
   "outputs": [
    {
     "name": "stdout",
     "output_type": "stream",
     "text": [
      "Record inserted\n",
      "Record inserted\n",
      "Record inserted\n",
      "Record inserted\n",
      "Record inserted\n",
      "Record inserted\n",
      "Record inserted\n",
      "Record inserted\n",
      "Record inserted\n",
      "Record inserted\n",
      "Record inserted\n",
      "Record inserted\n",
      "Record inserted\n",
      "Record inserted\n",
      "Record inserted\n",
      "Record inserted\n"
     ]
    }
   ],
   "source": [
    "data = pd.read_csv(\"/Users/hudasaeed/Downloads/contracts.csv\")\n",
    "data['date'] = pd.to_datetime(data['date'], format='%m/%d/%Y').dt.strftime('%Y-%m-%d')\n",
    "\n",
    "for i,row in data.iterrows():\n",
    "            sql = \"INSERT INTO contracts VALUES (%s,%s,%s,%s,%s,%s,%s,%s)\"\n",
    "            mycursor.execute(sql, tuple(row))\n",
    "            print(\"Record inserted\")\n",
    "            # the connection is not autocommitted by default, so we \n",
    "            # must commit to save our changes\n",
    "            mydb.commit()"
   ]
  },
  {
   "cell_type": "code",
   "execution_count": null,
   "id": "21becc83",
   "metadata": {},
   "outputs": [],
   "source": []
  }
 ],
 "metadata": {
  "kernelspec": {
   "display_name": "Python 3 (ipykernel)",
   "language": "python",
   "name": "python3"
  },
  "language_info": {
   "codemirror_mode": {
    "name": "ipython",
    "version": 3
   },
   "file_extension": ".py",
   "mimetype": "text/x-python",
   "name": "python",
   "nbconvert_exporter": "python",
   "pygments_lexer": "ipython3",
   "version": "3.11.5"
  }
 },
 "nbformat": 4,
 "nbformat_minor": 5
}
